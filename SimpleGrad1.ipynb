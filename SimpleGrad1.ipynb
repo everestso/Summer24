{
  "nbformat": 4,
  "nbformat_minor": 0,
  "metadata": {
    "colab": {
      "provenance": [],
      "authorship_tag": "ABX9TyPJ5I3TnYIljievXT4teVTP",
      "include_colab_link": true
    },
    "kernelspec": {
      "name": "python3",
      "display_name": "Python 3"
    },
    "language_info": {
      "name": "python"
    }
  },
  "cells": [
    {
      "cell_type": "markdown",
      "metadata": {
        "id": "view-in-github",
        "colab_type": "text"
      },
      "source": [
        "<a href=\"https://colab.research.google.com/github/everestso/Summer24/blob/main/SimpleGrad1.ipynb\" target=\"_parent\"><img src=\"https://colab.research.google.com/assets/colab-badge.svg\" alt=\"Open In Colab\"/></a>"
      ]
    },
    {
      "cell_type": "markdown",
      "source": [
        "# Simple Gradient Descent Example"
      ],
      "metadata": {
        "id": "S_ZZ4byOJLDJ"
      }
    },
    {
      "cell_type": "code",
      "execution_count": 2,
      "metadata": {
        "id": "W_Gd4ARLJH4Y"
      },
      "outputs": [],
      "source": [
        "import torch"
      ]
    },
    {
      "cell_type": "code",
      "source": [
        "# prompt: Create a simple gradients descent example using as input integers from range(10) using the equation y= 2 + 3x\n",
        "\n",
        "# Define the function\n",
        "def f(x, w):\n",
        "  return w[0] + w[1] * x\n",
        "\n",
        "w_orig = (2.0,3.0)\n",
        "# Initialize the weights\n",
        "w_test=(0.0,0.0)\n",
        "w = torch.tensor(w_test, requires_grad=True)\n",
        "x_list = list(range(10))\n",
        "y_list = [f(x, w_orig) for x in x_list]\n",
        "pred_list = [f(x, w_test) for x in x_list]\n",
        "# Define the input data\n",
        "print (f\"{x_list=}\")\n",
        "print (f\"{y_list=}\")\n",
        "print (f\"{pred_list=}\")\n",
        "learning_rate=0.03\n",
        "for _ in range(25):\n",
        "  print (f\"{sum([(y-f(x, w_test))**2 for x,y in zip(x_list,y_list)])}\")\n",
        "  for i in range(10):\n",
        "    item = i\n",
        "    w = torch.tensor(w_test, requires_grad=True)\n",
        "    x = torch.tensor(x_list[item], dtype=torch.float32, requires_grad=True)\n",
        "    y = torch.tensor(y_list[item], dtype=torch.float32, requires_grad=True)\n",
        "    loss = (y - f(x, w))**2\n",
        "    loss.backward()\n",
        "    #print (f\"{w.grad=}\")\n",
        "    w_test = (w[0]-learning_rate* w.grad[0], w[1]-learning_rate*w.grad[1])\n",
        "    #print (f\"{w_test=}\")\n",
        "    w.grad.zero_()\n",
        "\n",
        "print (f\"{w_test[0]:.2f}, {w_test[1]:.2f}, {w_orig=}\")\n"
      ],
      "metadata": {
        "colab": {
          "base_uri": "https://localhost:8080/"
        },
        "id": "HJByb4TDJPEX",
        "outputId": "acf245c6-0cb3-49bc-8efd-ba1249e1015f"
      },
      "execution_count": null,
      "outputs": [
        {
          "output_type": "stream",
          "name": "stdout",
          "text": [
            "x_list=[0, 1, 2, 3, 4, 5, 6, 7, 8, 9]\n",
            "y_list=[2.0, 5.0, 8.0, 11.0, 14.0, 17.0, 20.0, 23.0, 26.0, 29.0]\n",
            "pred_list=[0.0, 0.0, 0.0, 0.0, 0.0, 0.0, 0.0, 0.0, 0.0, 0.0]\n",
            "3145.0\n",
            "50.54237365722656\n",
            "5.835329532623291\n",
            "2.800790548324585\n",
            "1.782610535621643\n",
            "1.1742467880249023\n",
            "0.7762038707733154\n",
            "0.5126916170120239\n",
            "0.3387297987937927\n",
            "0.22406457364559174\n",
            "0.14800329506397247\n",
            "0.09783980995416641\n",
            "0.06470861285924911\n",
            "0.042806029319763184\n",
            "0.02836495265364647\n",
            "0.01872478984296322\n",
            "0.012342322617769241\n",
            "0.008188323117792606\n",
            "0.005445810034871101\n",
            "0.003540023695677519\n",
            "0.0023562167771160603\n",
            "0.001561347278766334\n",
            "0.0010232658823952079\n",
            "0.0006766583537682891\n",
            "0.00044678631820715964\n",
            "2.00, 3.00, w_orig=(2.0, 3.0)\n"
          ]
        }
      ]
    },
    {
      "cell_type": "code",
      "source": [
        "# prompt: Create a simple gradients descent example using as input integers from range(10) using the equation y= 2 + 3x\n",
        "\n",
        "# Define the function\n",
        "def f(x, w):\n",
        "  return w[0] + w[1] * x\n",
        "\n",
        "w_orig = (3.0,5.0)\n",
        "# Initialize the weights\n",
        "w_test=(0.0,0.0)\n",
        "w = torch.tensor(w_test, requires_grad=True)\n",
        "x_list = list(range(10))\n",
        "y_list = [f(x, w_orig) for x in x_list]\n",
        "pred_list = [f(x, w_test) for x in x_list]\n",
        "# Define the input data\n",
        "print (f\"{x_list=}\")\n",
        "print (f\"{y_list=}\")\n",
        "print (f\"{pred_list=}\")\n",
        "learning_rate=0.03\n",
        "for _ in range(25):\n",
        "  print (f\"{sum([(y-f(x, w_test))**2 for x,y in zip(x_list,y_list)])}\")\n",
        "  for i in range(10):\n",
        "    item = i\n",
        "    w = torch.tensor(w_test, requires_grad=True)\n",
        "    x = torch.tensor(x_list[item], dtype=torch.float32, requires_grad=True)\n",
        "    y = torch.tensor(y_list[item], dtype=torch.float32, requires_grad=True)\n",
        "    loss = (y - f(x, w))**2\n",
        "    loss.backward()\n",
        "    #print (f\"{w.grad=}\")\n",
        "    w_test = (w[0]-learning_rate* w.grad[0], w[1]-learning_rate*w.grad[1])\n",
        "    #print (f\"{w_test=}\")\n",
        "    w.grad.zero_()\n",
        "\n",
        "print (f\"{w_test[0]:.2f}, {w_test[1]:.2f}, {w_orig=}\")\n"
      ],
      "metadata": {
        "colab": {
          "base_uri": "https://localhost:8080/"
        },
        "id": "SbYj32BRJdZe",
        "outputId": "e50c4a78-497a-4724-acd4-17b11eb5a25b"
      },
      "execution_count": null,
      "outputs": [
        {
          "output_type": "stream",
          "name": "stdout",
          "text": [
            "x_list=[0, 1, 2, 3, 4, 5, 6, 7, 8, 9]\n",
            "y_list=[3.0, 8.0, 13.0, 18.0, 23.0, 28.0, 33.0, 38.0, 43.0, 48.0]\n",
            "pred_list=[0.0, 0.0, 0.0, 0.0, 0.0, 0.0, 0.0, 0.0, 0.0, 0.0]\n",
            "8565.0\n",
            "110.43677520751953\n",
            "8.197516441345215\n",
            "3.3766303062438965\n",
            "2.1074559688568115\n",
            "1.382805585861206\n",
            "0.9141682386398315\n",
            "0.6043360829353333\n",
            "0.39986687898635864\n",
            "0.2641352713108063\n",
            "0.17430467903614044\n",
            "0.11568157374858856\n",
            "0.07649444043636322\n",
            "0.05029994621872902\n",
            "0.03319070115685463\n",
            "0.021896418184041977\n",
            "0.014549586921930313\n",
            "0.009655408561229706\n",
            "0.006342933513224125\n",
            "0.004267261829227209\n",
            "0.0028012897819280624\n",
            "0.0018546557985246181\n",
            "0.0012117711594328284\n",
            "0.0008367495029233396\n",
            "0.0005450514145195484\n",
            "3.00, 5.00, w_orig=(3.0, 5.0)\n"
          ]
        }
      ]
    },
    {
      "cell_type": "code",
      "source": [
        "# Visualize Computation Graph\n",
        "!pip install torchviz"
      ],
      "metadata": {
        "colab": {
          "base_uri": "https://localhost:8080/"
        },
        "id": "v66bMXFBimm1",
        "outputId": "f116aa86-262c-4802-8d7b-e54eb1c8112b"
      },
      "execution_count": 4,
      "outputs": [
        {
          "output_type": "stream",
          "name": "stdout",
          "text": [
            "Collecting torchviz\n",
            "  Downloading torchviz-0.0.2.tar.gz (4.9 kB)\n",
            "  Preparing metadata (setup.py) ... \u001b[?25l\u001b[?25hdone\n",
            "Requirement already satisfied: torch in /usr/local/lib/python3.10/dist-packages (from torchviz) (2.3.0+cu121)\n",
            "Requirement already satisfied: graphviz in /usr/local/lib/python3.10/dist-packages (from torchviz) (0.20.3)\n",
            "Requirement already satisfied: filelock in /usr/local/lib/python3.10/dist-packages (from torch->torchviz) (3.15.3)\n",
            "Requirement already satisfied: typing-extensions>=4.8.0 in /usr/local/lib/python3.10/dist-packages (from torch->torchviz) (4.12.2)\n",
            "Requirement already satisfied: sympy in /usr/local/lib/python3.10/dist-packages (from torch->torchviz) (1.12.1)\n",
            "Requirement already satisfied: networkx in /usr/local/lib/python3.10/dist-packages (from torch->torchviz) (3.3)\n",
            "Requirement already satisfied: jinja2 in /usr/local/lib/python3.10/dist-packages (from torch->torchviz) (3.1.4)\n",
            "Requirement already satisfied: fsspec in /usr/local/lib/python3.10/dist-packages (from torch->torchviz) (2023.6.0)\n",
            "Collecting nvidia-cuda-nvrtc-cu12==12.1.105 (from torch->torchviz)\n",
            "  Using cached nvidia_cuda_nvrtc_cu12-12.1.105-py3-none-manylinux1_x86_64.whl (23.7 MB)\n",
            "Collecting nvidia-cuda-runtime-cu12==12.1.105 (from torch->torchviz)\n",
            "  Using cached nvidia_cuda_runtime_cu12-12.1.105-py3-none-manylinux1_x86_64.whl (823 kB)\n",
            "Collecting nvidia-cuda-cupti-cu12==12.1.105 (from torch->torchviz)\n",
            "  Using cached nvidia_cuda_cupti_cu12-12.1.105-py3-none-manylinux1_x86_64.whl (14.1 MB)\n",
            "Collecting nvidia-cudnn-cu12==8.9.2.26 (from torch->torchviz)\n",
            "  Using cached nvidia_cudnn_cu12-8.9.2.26-py3-none-manylinux1_x86_64.whl (731.7 MB)\n",
            "Collecting nvidia-cublas-cu12==12.1.3.1 (from torch->torchviz)\n",
            "  Using cached nvidia_cublas_cu12-12.1.3.1-py3-none-manylinux1_x86_64.whl (410.6 MB)\n",
            "Collecting nvidia-cufft-cu12==11.0.2.54 (from torch->torchviz)\n",
            "  Using cached nvidia_cufft_cu12-11.0.2.54-py3-none-manylinux1_x86_64.whl (121.6 MB)\n",
            "Collecting nvidia-curand-cu12==10.3.2.106 (from torch->torchviz)\n",
            "  Using cached nvidia_curand_cu12-10.3.2.106-py3-none-manylinux1_x86_64.whl (56.5 MB)\n",
            "Collecting nvidia-cusolver-cu12==11.4.5.107 (from torch->torchviz)\n",
            "  Using cached nvidia_cusolver_cu12-11.4.5.107-py3-none-manylinux1_x86_64.whl (124.2 MB)\n",
            "Collecting nvidia-cusparse-cu12==12.1.0.106 (from torch->torchviz)\n",
            "  Using cached nvidia_cusparse_cu12-12.1.0.106-py3-none-manylinux1_x86_64.whl (196.0 MB)\n",
            "Collecting nvidia-nccl-cu12==2.20.5 (from torch->torchviz)\n",
            "  Using cached nvidia_nccl_cu12-2.20.5-py3-none-manylinux2014_x86_64.whl (176.2 MB)\n",
            "Collecting nvidia-nvtx-cu12==12.1.105 (from torch->torchviz)\n",
            "  Using cached nvidia_nvtx_cu12-12.1.105-py3-none-manylinux1_x86_64.whl (99 kB)\n",
            "Requirement already satisfied: triton==2.3.0 in /usr/local/lib/python3.10/dist-packages (from torch->torchviz) (2.3.0)\n",
            "Collecting nvidia-nvjitlink-cu12 (from nvidia-cusolver-cu12==11.4.5.107->torch->torchviz)\n",
            "  Downloading nvidia_nvjitlink_cu12-12.5.40-py3-none-manylinux2014_x86_64.whl (21.3 MB)\n",
            "\u001b[2K     \u001b[90m━━━━━━━━━━━━━━━━━━━━━━━━━━━━━━━━━━━━━━━━\u001b[0m \u001b[32m21.3/21.3 MB\u001b[0m \u001b[31m45.0 MB/s\u001b[0m eta \u001b[36m0:00:00\u001b[0m\n",
            "\u001b[?25hRequirement already satisfied: MarkupSafe>=2.0 in /usr/local/lib/python3.10/dist-packages (from jinja2->torch->torchviz) (2.1.5)\n",
            "Requirement already satisfied: mpmath<1.4.0,>=1.1.0 in /usr/local/lib/python3.10/dist-packages (from sympy->torch->torchviz) (1.3.0)\n",
            "Building wheels for collected packages: torchviz\n",
            "  Building wheel for torchviz (setup.py) ... \u001b[?25l\u001b[?25hdone\n",
            "  Created wheel for torchviz: filename=torchviz-0.0.2-py3-none-any.whl size=4132 sha256=e391f8015aaf5d7e551d6edb35d05c04c26fa969b409a8c04de8f7a8ada04b4c\n",
            "  Stored in directory: /root/.cache/pip/wheels/4c/97/88/a02973217949e0db0c9f4346d154085f4725f99c4f15a87094\n",
            "Successfully built torchviz\n",
            "Installing collected packages: nvidia-nvtx-cu12, nvidia-nvjitlink-cu12, nvidia-nccl-cu12, nvidia-curand-cu12, nvidia-cufft-cu12, nvidia-cuda-runtime-cu12, nvidia-cuda-nvrtc-cu12, nvidia-cuda-cupti-cu12, nvidia-cublas-cu12, nvidia-cusparse-cu12, nvidia-cudnn-cu12, nvidia-cusolver-cu12, torchviz\n",
            "Successfully installed nvidia-cublas-cu12-12.1.3.1 nvidia-cuda-cupti-cu12-12.1.105 nvidia-cuda-nvrtc-cu12-12.1.105 nvidia-cuda-runtime-cu12-12.1.105 nvidia-cudnn-cu12-8.9.2.26 nvidia-cufft-cu12-11.0.2.54 nvidia-curand-cu12-10.3.2.106 nvidia-cusolver-cu12-11.4.5.107 nvidia-cusparse-cu12-12.1.0.106 nvidia-nccl-cu12-2.20.5 nvidia-nvjitlink-cu12-12.5.40 nvidia-nvtx-cu12-12.1.105 torchviz-0.0.2\n"
          ]
        }
      ]
    },
    {
      "cell_type": "code",
      "source": [
        "from torchviz import make_dot\n",
        "from IPython.display import Image\n",
        "\n",
        "# Define the function\n",
        "def f(x, w):\n",
        "  return w[0] + w[1] * x\n",
        "\n",
        "w_orig = (2.0,3.0)\n",
        "# Initialize the weights\n",
        "w_test=(0.0,0.0)\n",
        "w = torch.tensor(w_test, requires_grad=True)\n",
        "x_list = list(range(10))\n",
        "y_list = [f(x, w_orig) for x in x_list]\n",
        "pred_list = [f(x, w_test) for x in x_list]\n",
        "# Define the input data\n",
        "print (f\"{x_list=}\")\n",
        "print (f\"{y_list=}\")\n",
        "print (f\"{pred_list=}\")\n",
        "learning_rate=0.03\n",
        "print (f\"{sum([(y-f(x, w_test))**2 for x,y in zip(x_list,y_list)])}\")\n",
        "item = 4\n",
        "w = torch.tensor(w_test, requires_grad=True)\n",
        "x = torch.tensor(x_list[item], dtype=torch.float32, requires_grad=True)\n",
        "y = torch.tensor(y_list[item], dtype=torch.float32, requires_grad=True)\n",
        "loss = (y - f(x, w))**2\n",
        "\n",
        "# Render graph\n",
        "dot = make_dot(loss, params={'loss': loss, 'w': w, 'x': x, 'y': y})\n",
        "dot.render(\"computation_graph\", format=\"png\")  # Save the graph as a PNG image\n",
        "\n",
        "# Display the saved image\n",
        "Image(filename='computation_graph.png')\n",
        "\n"
      ],
      "metadata": {
        "colab": {
          "base_uri": "https://localhost:8080/",
          "height": 698
        },
        "id": "GNKNGftnhXkM",
        "outputId": "40cdac98-d1e3-465e-8f99-b85b38a47948"
      },
      "execution_count": 9,
      "outputs": [
        {
          "output_type": "stream",
          "name": "stdout",
          "text": [
            "x_list=[0, 1, 2, 3, 4, 5, 6, 7, 8, 9]\n",
            "y_list=[2.0, 5.0, 8.0, 11.0, 14.0, 17.0, 20.0, 23.0, 26.0, 29.0]\n",
            "pred_list=[0.0, 0.0, 0.0, 0.0, 0.0, 0.0, 0.0, 0.0, 0.0, 0.0]\n",
            "3145.0\n"
          ]
        },
        {
          "output_type": "execute_result",
          "data": {
            "image/png": "[encoded data removed]",
            "text/plain": [
              "<IPython.core.display.Image object>"
            ]
          },
          "metadata": {},
          "execution_count": 9
        }
      ]
    }
  ]
}