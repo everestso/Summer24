{
  "nbformat": 4,
  "nbformat_minor": 0,
  "metadata": {
    "colab": {
      "provenance": [],
      "authorship_tag": "ABX9TyNrO1vWVuxL/4R0HGK21oqW",
      "include_colab_link": true
    },
    "kernelspec": {
      "name": "python3",
      "display_name": "Python 3"
    },
    "language_info": {
      "name": "python"
    }
  },
  "cells": [
    {
      "cell_type": "markdown",
      "metadata": {
        "id": "view-in-github",
        "colab_type": "text"
      },
      "source": [
        "<a href=\"https://colab.research.google.com/github/everestso/Summer24/blob/main/zyBooksHomesWithTransforms.ipynb\" target=\"_parent\"><img src=\"https://colab.research.google.com/assets/colab-badge.svg\" alt=\"Open In Colab\"/></a>"
      ]
    },
    {
      "cell_type": "markdown",
      "source": [
        "# Download the file"
      ],
      "metadata": {
        "id": "x5m3wV3spoVg"
      }
    },
    {
      "cell_type": "code",
      "source": [
        "# prompt: Modify to download using gdown\n",
        "\n",
        "!gdown 1Ez9j7TzfueUCEt3ZcgoL9wxNYG9V0TY2\n"
      ],
      "metadata": {
        "colab": {
          "base_uri": "https://localhost:8080/"
        },
        "id": "jPo9g06uqAMB",
        "outputId": "10cf7c4f-3aa7-4827-e9fc-3cd5d6946476"
      },
      "execution_count": 9,
      "outputs": [
        {
          "output_type": "stream",
          "name": "stdout",
          "text": [
            "Downloading...\n",
            "From: https://drive.google.com/uc?id=1Ez9j7TzfueUCEt3ZcgoL9wxNYG9V0TY2\n",
            "To: /content/homes.csv\n",
            "\r  0% 0.00/4.97k [00:00<?, ?B/s]\r100% 4.97k/4.97k [00:00<00:00, 8.91MB/s]\n"
          ]
        }
      ]
    },
    {
      "cell_type": "markdown",
      "source": [
        "# ZyBooks Code"
      ],
      "metadata": {
        "id": "NggsGUr3pjMY"
      }
    },
    {
      "cell_type": "code",
      "source": [
        "import pandas as pd\n",
        "import numpy as np\n",
        "from sklearn.preprocessing import StandardScaler\n",
        "from sklearn.preprocessing import MinMaxScaler\n",
        "from sklearn.preprocessing import OrdinalEncoder\n",
        "from sklearn.preprocessing import KBinsDiscretizer\n",
        "\n",
        "homes = pd.read_csv('homes.csv')\n",
        "priceFloor = homes[['Price', 'Floor']]\n",
        "school = homes[['School']]\n",
        "\n",
        "print ('Original data: \\n', homes)\n",
        "print('Price and Floor data: \\n', priceFloor)\n"
      ],
      "metadata": {
        "colab": {
          "base_uri": "https://localhost:8080/"
        },
        "id": "E7VisC-ophqJ",
        "outputId": "e4a69763-d83d-41c8-aa2b-49a49a92b55c"
      },
      "execution_count": 10,
      "outputs": [
        {
          "output_type": "stream",
          "name": "stdout",
          "text": [
            "Original data: \n",
            "     ID  Price  Floor  Lot  Bath  Bed  BathBed  Year  Age  AgeSq  Gar   Status  \\\n",
            "0    4  350.0  1.442    6   1.0    2      2.0  1956 -1.4   1.96    1   Active   \n",
            "1   21  299.0  1.994    8   3.0    2      6.0  2005  3.5  12.25    3  Pending   \n",
            "2   47  339.9  2.048    5   2.0    2      4.0  1993  2.3   5.29    3  Pending   \n",
            "3   31  325.0  1.661    4   1.1    3      3.3  1974  0.4   0.16    2   Active   \n",
            "4   69  285.0  1.878    5   2.1    3      6.3  1975  0.5   0.25    2   Active   \n",
            "..  ..    ...    ...  ...   ...  ...      ...   ...  ...    ...  ...      ...   \n",
            "71  51  199.0  2.016    3   2.0    5     10.0  1963 -0.7   0.49    1  Pending   \n",
            "72  22  185.0  1.860    4   2.0    5     10.0  1953 -1.7   2.89    0     Sold   \n",
            "73  36  269.0  1.800    3   3.0    5     15.0  1947 -2.3   5.29    0     Sold   \n",
            "74  49  295.0  2.028    4   3.0    5     15.0  1992  2.2   4.84    2     Sold   \n",
            "75  35  252.5  1.888    2   2.0    6     12.0  1920 -5.0  25.00    0     Sold   \n",
            "\n",
            "    DAc   School  DEd  DHa  DAd  DCr  DPa  \n",
            "0     1    Adams    0    0    1    0    0  \n",
            "1     0   Parker    0    0    0    0    1  \n",
            "2     0  Redwood    0    0    0    0    0  \n",
            "3     1    Crest    0    0    0    1    0  \n",
            "4     1    Crest    0    0    0    1    0  \n",
            "..  ...      ...  ...  ...  ...  ...  ...  \n",
            "71    0  Redwood    0    0    0    0    0  \n",
            "72    0   Parker    0    0    0    0    1  \n",
            "73    0  Redwood    0    0    0    0    0  \n",
            "74    0  Redwood    0    0    0    0    0  \n",
            "75    0   Edison    1    0    0    0    0  \n",
            "\n",
            "[76 rows x 19 columns]\n",
            "Price and Floor data: \n",
            "     Price  Floor\n",
            "0   350.0  1.442\n",
            "1   299.0  1.994\n",
            "2   339.9  2.048\n",
            "3   325.0  1.661\n",
            "4   285.0  1.878\n",
            "..    ...    ...\n",
            "71  199.0  2.016\n",
            "72  185.0  1.860\n",
            "73  269.0  1.800\n",
            "74  295.0  2.028\n",
            "75  252.5  1.888\n",
            "\n",
            "[76 rows x 2 columns]\n"
          ]
        }
      ]
    },
    {
      "cell_type": "code",
      "source": [
        "# Define a standardization scaler to transform values\n",
        "# Your code here\n",
        "\n",
        "# Apply scaler to the priceFloor data\n",
        "scaled = # Your code here\n",
        "\n",
        "homes_standardized = pd.DataFrame(scaled, columns=['Price','Floor'])\n",
        "print('Standardized data: \\n', homes_standardized)\n",
        "\n",
        "# Define a normalization scaler to transform values\n",
        "# Your code here\n",
        "\n",
        "# Apply scaler to the priceFloor data\n",
        "normalized = # Your code here\n",
        "\n",
        "homes_normalized = pd.DataFrame(normalized, columns=['Price','Floor'])\n",
        "print('Normalized data: \\n', homes_normalized)\n",
        "\n",
        "# Define the OrdinalEncoder() function\n",
        "ordinal_encoder = OrdinalEncoder()\n",
        "# Create a dataframe of the ordinal encoder function fit to the school data, with the column labeled encoding\n",
        "# Your code here\n",
        "\n",
        "# Join the new column to the school data\n",
        "school_encoded = # Your code here\n",
        "\n",
        "print('Encoded data: \\n', school_encoded)\n",
        "\n",
        "# Create a discretizer with equal weights and 3 bins\n",
        "discretizer_eqwidth = # Your code here\n",
        "\n",
        "# Fit the discretizer to the Floor feature from the priceFloor data.\n",
        "# Reshape the feature to an array with dimensions (76,1).\n",
        "# Your code here\n",
        "\n",
        "print('Bin widths: \\n', discretizer_eqwidth.bin_edges_[0])"
      ],
      "metadata": {
        "id": "v5ycNqC4t8Mt"
      },
      "execution_count": null,
      "outputs": []
    }
  ]
}