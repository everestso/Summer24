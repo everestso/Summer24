{
  "nbformat": 4,
  "nbformat_minor": 0,
  "metadata": {
    "colab": {
      "provenance": [],
      "authorship_tag": "ABX9TyMrkOLqhX/dcx4As7St7E9m",
      "include_colab_link": true
    },
    "kernelspec": {
      "name": "python3",
      "display_name": "Python 3"
    },
    "language_info": {
      "name": "python"
    }
  },
  "cells": [
    {
      "cell_type": "markdown",
      "metadata": {
        "id": "view-in-github",
        "colab_type": "text"
      },
      "source": [
        "<a href=\"https://colab.research.google.com/github/everestso/Summer24/blob/main/zyBooksHomesWithTransforms.ipynb\" target=\"_parent\"><img src=\"https://colab.research.google.com/assets/colab-badge.svg\" alt=\"Open In Colab\"/></a>"
      ]
    },
    {
      "cell_type": "markdown",
      "source": [
        "# Download the file"
      ],
      "metadata": {
        "id": "x5m3wV3spoVg"
      }
    },
    {
      "cell_type": "code",
      "source": [
        "# prompt: Modify wget to rename file to homes.csv\n",
        "\n",
        "!wget https://drive.google.com/file/d/1Ez9j7TzfueUCEt3ZcgoL9wxNYG9V0TY2/view?usp=sharing -O homes.csv\n"
      ],
      "metadata": {
        "colab": {
          "base_uri": "https://localhost:8080/"
        },
        "id": "jPo9g06uqAMB",
        "outputId": "6681dfe4-0449-4ee6-f920-5a71938821c8"
      },
      "execution_count": 2,
      "outputs": [
        {
          "output_type": "stream",
          "name": "stdout",
          "text": [
            "--2024-07-15 23:09:29--  https://drive.google.com/file/d/1Ez9j7TzfueUCEt3ZcgoL9wxNYG9V0TY2/view?usp=sharing\n",
            "Resolving drive.google.com (drive.google.com)... 172.253.115.101, 172.253.115.113, 172.253.115.102, ...\n",
            "Connecting to drive.google.com (drive.google.com)|172.253.115.101|:443... connected.\n",
            "HTTP request sent, awaiting response... 200 OK\n",
            "Length: unspecified [text/html]\n",
            "Saving to: ‘homes.csv’\n",
            "\n",
            "homes.csv               [ <=>                ]  85.92K  --.-KB/s    in 0.006s  \n",
            "\n",
            "2024-07-15 23:09:29 (13.1 MB/s) - ‘homes.csv’ saved [87978]\n",
            "\n"
          ]
        }
      ]
    },
    {
      "cell_type": "markdown",
      "source": [
        "# ZyBooks Code"
      ],
      "metadata": {
        "id": "NggsGUr3pjMY"
      }
    },
    {
      "cell_type": "code",
      "source": [
        "import pandas as pd\n",
        "import numpy as np\n",
        "from sklearn.preprocessing import StandardScaler\n",
        "from sklearn.preprocessing import MinMaxScaler\n",
        "from sklearn.preprocessing import OrdinalEncoder\n",
        "from sklearn.preprocessing import KBinsDiscretizer\n",
        "\n",
        "homes = pd.read_csv('homes.csv')\n",
        "priceFloor = homes[['Price', 'Floor']]\n",
        "school = homes[['School']]\n",
        "\n",
        "# Define a standardization scaler to transform values\n",
        "# Your code here\n",
        "\n",
        "# Apply scaler to the priceFloor data\n",
        "scaled = # Your code here\n",
        "\n",
        "homes_standardized = pd.DataFrame(scaled, columns=['Price','Floor'])\n",
        "print('Standardized data: \\n', homes_standardized)\n",
        "\n",
        "# Define a normalization scaler to transform values\n",
        "# Your code here\n",
        "\n",
        "# Apply scaler to the priceFloor data\n",
        "normalized = # Your code here\n",
        "\n",
        "homes_normalized = pd.DataFrame(normalized, columns=['Price','Floor'])\n",
        "print('Normalized data: \\n', homes_normalized)\n",
        "\n",
        "# Define the OrdinalEncoder() function\n",
        "ordinal_encoder = OrdinalEncoder()\n",
        "# Create a dataframe of the ordinal encoder function fit to the school data, with the column labeled encoding\n",
        "# Your code here\n",
        "\n",
        "# Join the new column to the school data\n",
        "school_encoded = # Your code here\n",
        "\n",
        "print('Encoded data: \\n', school_encoded)\n",
        "\n",
        "# Create a discretizer with equal weights and 3 bins\n",
        "discretizer_eqwidth = # Your code here\n",
        "\n",
        "# Fit the discretizer to the Floor feature from the priceFloor data.\n",
        "# Reshape the feature to an array with dimensions (76,1).\n",
        "# Your code here\n",
        "\n",
        "print('Bin widths: \\n', discretizer_eqwidth.bin_edges_[0])"
      ],
      "metadata": {
        "colab": {
          "base_uri": "https://localhost:8080/",
          "height": 106
        },
        "id": "E7VisC-ophqJ",
        "outputId": "8e737795-3081-4c8b-cb4d-69a9724db903"
      },
      "execution_count": 3,
      "outputs": [
        {
          "output_type": "error",
          "ename": "SyntaxError",
          "evalue": "invalid syntax (<ipython-input-3-554a2345c51b>, line 16)",
          "traceback": [
            "\u001b[0;36m  File \u001b[0;32m\"<ipython-input-3-554a2345c51b>\"\u001b[0;36m, line \u001b[0;32m16\u001b[0m\n\u001b[0;31m    scaled = # Your code here\u001b[0m\n\u001b[0m             ^\u001b[0m\n\u001b[0;31mSyntaxError\u001b[0m\u001b[0;31m:\u001b[0m invalid syntax\n"
          ]
        }
      ]
    }
  ]
}