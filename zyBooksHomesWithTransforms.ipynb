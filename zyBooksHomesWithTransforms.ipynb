{
  "nbformat": 4,
  "nbformat_minor": 0,
  "metadata": {
    "colab": {
      "provenance": [],
      "authorship_tag": "ABX9TyMQRrb4XDZiA+u+jQtoHkfX",
      "include_colab_link": true
    },
    "kernelspec": {
      "name": "python3",
      "display_name": "Python 3"
    },
    "language_info": {
      "name": "python"
    }
  },
  "cells": [
    {
      "cell_type": "markdown",
      "metadata": {
        "id": "view-in-github",
        "colab_type": "text"
      },
      "source": [
        "<a href=\"https://colab.research.google.com/github/everestso/Summer24/blob/main/zyBooksHomesWithTransforms.ipynb\" target=\"_parent\"><img src=\"https://colab.research.google.com/assets/colab-badge.svg\" alt=\"Open In Colab\"/></a>"
      ]
    },
    {
      "cell_type": "markdown",
      "source": [
        "# Download the file"
      ],
      "metadata": {
        "id": "x5m3wV3spoVg"
      }
    },
    {
      "cell_type": "code",
      "source": [
        "# prompt: Modify to download using gdown\n",
        "\n",
        "!gdown 1Ez9j7TzfueUCEt3ZcgoL9wxNYG9V0TY2\n"
      ],
      "metadata": {
        "colab": {
          "base_uri": "https://localhost:8080/"
        },
        "id": "jPo9g06uqAMB",
        "outputId": "ed6e50fc-d051-46ec-f68a-25cb7e7d66a1"
      },
      "execution_count": 1,
      "outputs": [
        {
          "output_type": "stream",
          "name": "stdout",
          "text": [
            "Downloading...\n",
            "From: https://drive.google.com/uc?id=1Ez9j7TzfueUCEt3ZcgoL9wxNYG9V0TY2\n",
            "To: /content/homes.csv\n",
            "\r  0% 0.00/4.97k [00:00<?, ?B/s]\r100% 4.97k/4.97k [00:00<00:00, 7.04MB/s]\n"
          ]
        }
      ]
    },
    {
      "cell_type": "markdown",
      "source": [
        "# ZyBooks Code"
      ],
      "metadata": {
        "id": "NggsGUr3pjMY"
      }
    },
    {
      "cell_type": "code",
      "source": [
        "import pandas as pd\n",
        "import numpy as np\n",
        "from sklearn.preprocessing import StandardScaler\n",
        "from sklearn.preprocessing import MinMaxScaler\n",
        "from sklearn.preprocessing import OrdinalEncoder\n",
        "from sklearn.preprocessing import KBinsDiscretizer\n",
        "\n",
        "homes = pd.read_csv('homes.csv')\n",
        "priceFloor = homes[['Price', 'Floor']]\n",
        "school = homes[['School']]\n",
        "\n",
        "print ('Original data: \\n', homes)\n",
        "print('Price and Floor data: \\n', priceFloor)\n"
      ],
      "metadata": {
        "colab": {
          "base_uri": "https://localhost:8080/"
        },
        "id": "E7VisC-ophqJ",
        "outputId": "2fb1639d-b2b5-4858-a099-b614d7694868"
      },
      "execution_count": 3,
      "outputs": [
        {
          "output_type": "stream",
          "name": "stdout",
          "text": [
            "Original data: \n",
            "     ID  Price  Floor  Lot  Bath  Bed  BathBed  Year  Age  AgeSq  Gar   Status  \\\n",
            "0    4  350.0  1.442    6   1.0    2      2.0  1956 -1.4   1.96    1   Active   \n",
            "1   21  299.0  1.994    8   3.0    2      6.0  2005  3.5  12.25    3  Pending   \n",
            "2   47  339.9  2.048    5   2.0    2      4.0  1993  2.3   5.29    3  Pending   \n",
            "3   31  325.0  1.661    4   1.1    3      3.3  1974  0.4   0.16    2   Active   \n",
            "4   69  285.0  1.878    5   2.1    3      6.3  1975  0.5   0.25    2   Active   \n",
            "..  ..    ...    ...  ...   ...  ...      ...   ...  ...    ...  ...      ...   \n",
            "71  51  199.0  2.016    3   2.0    5     10.0  1963 -0.7   0.49    1  Pending   \n",
            "72  22  185.0  1.860    4   2.0    5     10.0  1953 -1.7   2.89    0     Sold   \n",
            "73  36  269.0  1.800    3   3.0    5     15.0  1947 -2.3   5.29    0     Sold   \n",
            "74  49  295.0  2.028    4   3.0    5     15.0  1992  2.2   4.84    2     Sold   \n",
            "75  35  252.5  1.888    2   2.0    6     12.0  1920 -5.0  25.00    0     Sold   \n",
            "\n",
            "    DAc   School  DEd  DHa  DAd  DCr  DPa  \n",
            "0     1    Adams    0    0    1    0    0  \n",
            "1     0   Parker    0    0    0    0    1  \n",
            "2     0  Redwood    0    0    0    0    0  \n",
            "3     1    Crest    0    0    0    1    0  \n",
            "4     1    Crest    0    0    0    1    0  \n",
            "..  ...      ...  ...  ...  ...  ...  ...  \n",
            "71    0  Redwood    0    0    0    0    0  \n",
            "72    0   Parker    0    0    0    0    1  \n",
            "73    0  Redwood    0    0    0    0    0  \n",
            "74    0  Redwood    0    0    0    0    0  \n",
            "75    0   Edison    1    0    0    0    0  \n",
            "\n",
            "[76 rows x 19 columns]\n",
            "Price and Floor data: \n",
            "     Price  Floor\n",
            "0   350.0  1.442\n",
            "1   299.0  1.994\n",
            "2   339.9  2.048\n",
            "3   325.0  1.661\n",
            "4   285.0  1.878\n",
            "..    ...    ...\n",
            "71  199.0  2.016\n",
            "72  185.0  1.860\n",
            "73  269.0  1.800\n",
            "74  295.0  2.028\n",
            "75  252.5  1.888\n",
            "\n",
            "[76 rows x 2 columns]\n"
          ]
        }
      ]
    },
    {
      "cell_type": "markdown",
      "source": [
        "# Explore Transforms"
      ],
      "metadata": {
        "id": "XynlCYmTbl08"
      }
    },
    {
      "cell_type": "code",
      "source": [
        "from sklearn.model_selection import train_test_split\n",
        "# Define a standardization scaler to transform values\n",
        "from sklearn.preprocessing import StandardScaler\n",
        "\n",
        "Transform = StandardScaler()\n",
        "\n",
        "# Apply scaler\n",
        "Xtrain_scaled = Transform.fit_transform(priceFloor)\n"
      ],
      "metadata": {
        "id": "MLVbOeNlbjPm"
      },
      "execution_count": 4,
      "outputs": []
    },
    {
      "cell_type": "code",
      "source": [
        "print  (Xtrain_scaled)"
      ],
      "metadata": {
        "colab": {
          "base_uri": "https://localhost:8080/"
        },
        "id": "FFKYbA5Jbshd",
        "outputId": "e6f90228-e49e-4a55-c716-ea609e2cce84"
      },
      "execution_count": 5,
      "outputs": [
        {
          "output_type": "stream",
          "name": "stdout",
          "text": [
            "[[ 1.07122678 -2.50402876]\n",
            " [ 0.22030455  0.11186383]\n",
            " [ 0.90271081  0.36776636]\n",
            " [ 0.65410804 -1.46620181]\n",
            " [-0.01328194 -0.43785273]\n",
            " [-0.14675993 -2.51350663]\n",
            " [ 1.2364058  -0.0113485 ]\n",
            " [-0.43206915 -1.36194522]\n",
            " [ 1.0628844   0.51941231]\n",
            " [ 0.98780303  0.73740336]\n",
            " [ 0.80093384  0.73740336]\n",
            " [ 0.22030455 -1.07760907]\n",
            " [ 0.56901582 -0.23881742]\n",
            " [-0.44708543  1.1259961 ]\n",
            " [ 1.2364058   1.08808461]\n",
            " [ 0.88769453 -0.20090594]\n",
            " [-0.18012943 -2.09648027]\n",
            " [ 0.23532083 -0.41889699]\n",
            " [-0.26355318  0.39146104]\n",
            " [-0.09837416  0.1876868 ]\n",
            " [ 1.48000314 -1.22451608]\n",
            " [ 0.64576567 -0.80748973]\n",
            " [ 0.83764029  0.73740336]\n",
            " [ 1.07122678  0.23507616]\n",
            " [ 1.15465053  0.75162017]\n",
            " [ 1.05454203  0.14029744]\n",
            " [-0.59891665 -0.78853398]\n",
            " [-1.09779066 -0.02556531]\n",
            " [-1.05607878 -0.83592334]\n",
            " [ 0.73753179 -0.36202976]\n",
            " [-0.84751941 -1.22451608]\n",
            " [-0.06667314 -0.39994124]\n",
            " [ 1.66353539 -0.3146404 ]\n",
            " [-0.49713967  0.01708511]\n",
            " [ 0.90437928  0.73740336]\n",
            " [ 0.98780303  0.73740336]\n",
            " [-0.78411737 -0.23881742]\n",
            " [-0.51382442 -0.33359614]\n",
            " [-0.34697693 -0.45206954]\n",
            " [-1.51490939  0.67105826]\n",
            " [-0.4887973   1.08808461]\n",
            " [-1.60667552 -0.30516253]\n",
            " [ 0.18693506  0.64262464]\n",
            " [-0.71404142 -0.76010037]\n",
            " [-1.14784491 -0.45206954]\n",
            " [ 2.48943049  1.33924821]\n",
            " [-0.43206915 -1.24347182]\n",
            " [-0.01328194  1.25394736]\n",
            " [-0.77243804 -0.80748973]\n",
            " [-0.26522166 -0.22933955]\n",
            " [-0.26855861  0.61419103]\n",
            " [-0.18179791 -0.51841464]\n",
            " [-0.04665144  0.04551873]\n",
            " [-0.44708543  0.51941231]\n",
            " [-0.82249229 -0.09664935]\n",
            " [-2.173957   -0.80748973]\n",
            " [ 1.70524726  0.99330589]\n",
            " [ 2.73970173  0.39619998]\n",
            " [ 1.67187776  0.67105826]\n",
            " [-0.01328194  1.41507118]\n",
            " [ 0.55399954 -0.54684825]\n",
            " [-0.59891665  0.52415125]\n",
            " [-1.3146924   1.34398715]\n",
            " [-0.89757366  0.28720445]\n",
            " [-0.73072617  1.46246054]\n",
            " [-1.1812144   0.34881062]\n",
            " [-0.6022536  -0.48524209]\n",
            " [-1.18288288 -0.48524209]\n",
            " [-1.4815399  -0.57054293]\n",
            " [-0.93094316  1.24920843]\n",
            " [ 1.0628844   4.38638395]\n",
            " [-1.4481704   0.21612042]\n",
            " [-1.68175689 -0.52315357]\n",
            " [-0.28023793 -0.80748973]\n",
            " [ 0.15356556  0.27298765]\n",
            " [-0.5555363  -0.39046337]]\n"
          ]
        }
      ]
    },
    {
      "cell_type": "code",
      "source": [
        "# prompt: Print the transform formula details\n",
        "\n",
        "print(f\"Transform.mean_ = {Transform.mean_}\")\n",
        "print(f\"Transform.scale_ = {Transform.scale_}\")\n",
        "\n",
        "print (f\"{priceFloor.columns[0]=}, {Transform.mean_[0]=}, {np.mean(priceFloor[priceFloor.columns[0]])=}, {Transform.scale_[0]=}, {np.std(priceFloor[priceFloor.columns[0]])=}\")\n",
        "print (f\"{priceFloor.iloc[0,0]=}, {(priceFloor.iloc[0,0]-Transform.mean_[0])/Transform.scale_[0]=}, {Xtrain_scaled[0][0]=}\")\n",
        "print (f\"{np.mean(priceFloor, axis=0)=}\")\n",
        "print (f\"{np.std(priceFloor, axis=0)=}\")"
      ],
      "metadata": {
        "colab": {
          "base_uri": "https://localhost:8080/"
        },
        "id": "aaP06ImvbvoG",
        "outputId": "afc40d5c-52cc-46ea-ed24-d412dfc3271e"
      },
      "execution_count": 8,
      "outputs": [
        {
          "output_type": "stream",
          "name": "stdout",
          "text": [
            "Transform.mean_ = [285.79605263   1.97039474]\n",
            "Transform.scale_ = [59.93497231  0.21101784]\n",
            "priceFloor.columns[0]='Price', Transform.mean_[0]=285.79605263157896, np.mean(priceFloor[priceFloor.columns[0]])=285.79605263157896, Transform.scale_[0]=59.93497230725076, np.std(priceFloor[priceFloor.columns[0]])=59.93497230725076\n",
            "priceFloor.iloc[0,0]=350.0, (priceFloor.iloc[0,0]-Transform.mean_[0])/Transform.scale_[0]=1.0712267795717965, Xtrain_scaled[0][0]=1.0712267795717965\n",
            "np.mean(priceFloor, axis=0)=Price    285.796053\n",
            "Floor      1.970395\n",
            "dtype: float64\n",
            "np.std(priceFloor, axis=0)=Price    59.934972\n",
            "Floor     0.211018\n",
            "dtype: float64\n"
          ]
        }
      ]
    },
    {
      "cell_type": "code",
      "source": [
        "# Define a standardization scaler to transform values\n",
        "# Your code here\n",
        "\n",
        "# Apply scaler to the priceFloor data\n",
        "scaled = # Your code here\n",
        "\n",
        "homes_standardized = pd.DataFrame(scaled, columns=['Price','Floor'])\n",
        "print('Standardized data: \\n', homes_standardized)\n",
        "\n",
        "# Define a normalization scaler to transform values\n",
        "# Your code here\n",
        "\n",
        "# Apply scaler to the priceFloor data\n",
        "normalized = # Your code here\n",
        "\n",
        "homes_normalized = pd.DataFrame(normalized, columns=['Price','Floor'])\n",
        "print('Normalized data: \\n', homes_normalized)\n",
        "\n",
        "# Define the OrdinalEncoder() function\n",
        "ordinal_encoder = OrdinalEncoder()\n",
        "# Create a dataframe of the ordinal encoder function fit to the school data, with the column labeled encoding\n",
        "# Your code here\n",
        "\n",
        "# Join the new column to the school data\n",
        "school_encoded = # Your code here\n",
        "\n",
        "print('Encoded data: \\n', school_encoded)\n",
        "\n",
        "# Create a discretizer with equal weights and 3 bins\n",
        "discretizer_eqwidth = # Your code here\n",
        "\n",
        "# Fit the discretizer to the Floor feature from the priceFloor data.\n",
        "# Reshape the feature to an array with dimensions (76,1).\n",
        "# Your code here\n",
        "\n",
        "print('Bin widths: \\n', discretizer_eqwidth.bin_edges_[0])"
      ],
      "metadata": {
        "id": "v5ycNqC4t8Mt"
      },
      "execution_count": null,
      "outputs": []
    }
  ]
}