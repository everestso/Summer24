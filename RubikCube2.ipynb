{
  "nbformat": 4,
  "nbformat_minor": 0,
  "metadata": {
    "colab": {
      "provenance": [],
      "authorship_tag": "ABX9TyOg+OXM+9zSWoISORp/t/5g",
      "include_colab_link": true
    },
    "kernelspec": {
      "name": "python3",
      "display_name": "Python 3"
    },
    "language_info": {
      "name": "python"
    }
  },
  "cells": [
    {
      "cell_type": "markdown",
      "metadata": {
        "id": "view-in-github",
        "colab_type": "text"
      },
      "source": [
        "<a href=\"https://colab.research.google.com/github/everestso/Summer24/blob/main/RubikCube2.ipynb\" target=\"_parent\"><img src=\"https://colab.research.google.com/assets/colab-badge.svg\" alt=\"Open In Colab\"/></a>"
      ]
    },
    {
      "cell_type": "markdown",
      "source": [
        "# Rubik's Cube\n",
        "\n",
        "## Standard Moves\n",
        "\n",
        "The standard moves for the 3x3 Rubik's Cube are typically denoted using a notation system called \"Singmaster notation.\" Each move is represented by a letter indicating a face to be rotated, possibly followed by a symbol to indicate the direction of the rotation. Here are the standard moves:\n",
        "\n",
        "1. **U (Up)**: Rotate the top face 90 degrees clockwise.\n",
        "2. **U' (U prime or U inverted)**: Rotate the top face 90 degrees counterclockwise.\n",
        "3. **U2**: Rotate the top face 180 degrees.\n",
        "\n",
        "4. **D (Down)**: Rotate the bottom face 90 degrees clockwise.\n",
        "5. **D' (D prime or D inverted)**: Rotate the bottom face 90 degrees counterclockwise.\n",
        "6. **D2**: Rotate the bottom face 180 degrees.\n",
        "\n",
        "7. **L (Left)**: Rotate the left face 90 degrees clockwise.\n",
        "8. **L' (L prime or L inverted)**: Rotate the left face 90 degrees counterclockwise.\n",
        "9. **L2**: Rotate the left face 180 degrees.\n",
        "\n",
        "10. **R (Right)**: Rotate the right face 90 degrees clockwise.\n",
        "11. **R' (R prime or R inverted)**: Rotate the right face 90 degrees counterclockwise.\n",
        "12. **R2**: Rotate the right face 180 degrees.\n",
        "\n",
        "13. **F (Front)**: Rotate the front face 90 degrees clockwise.\n",
        "14. **F' (F prime or F inverted)**: Rotate the front face 90 degrees counterclockwise.\n",
        "15. **F2**: Rotate the front face 180 degrees.\n",
        "\n",
        "16. **B (Back)**: Rotate the back face 90 degrees clockwise.\n",
        "17. **B' (B prime or B inverted)**: Rotate the back face 90 degrees counterclockwise.\n",
        "18. **B2**: Rotate the back face 180 degrees.\n",
        "\n",
        "### Notation Summary\n",
        "\n",
        "- **U**: Up face\n",
        "- **D**: Down face\n",
        "- **L**: Left face\n",
        "- **R**: Right face\n",
        "- **F**: Front face\n",
        "- **B**: Back face\n",
        "- **'**: Indicates a 90-degree counterclockwise rotation\n",
        "- **2**: Indicates a 180-degree rotation\n",
        "\n",
        "### Example\n",
        "\n",
        "- **U**: Rotate the top face 90 degrees clockwise.\n",
        "- **R'**: Rotate the right face 90 degrees counterclockwise.\n",
        "- **F2**: Rotate the front face 180 degrees.\n",
        "\n",
        "Understanding these moves is crucial for solving the Rubik's Cube and for implementing algorithms in code."
      ],
      "metadata": {
        "id": "HFvmbGx45qIF"
      }
    },
    {
      "cell_type": "code",
      "execution_count": 2,
      "metadata": {
        "colab": {
          "base_uri": "https://localhost:8080/",
          "height": 847
        },
        "id": "3Q5FyEnByfoH",
        "outputId": "1946d6da-33b8-4504-c908-7214fc997f8f"
      },
      "outputs": [
        {
          "output_type": "stream",
          "name": "stdout",
          "text": [
            "Initial state:\n"
          ]
        },
        {
          "output_type": "display_data",
          "data": {
            "text/plain": [
              "<Figure size 640x480 with 1 Axes>"
            ],
            "image/png": "[encoded data removed]"
          },
          "metadata": {}
        },
        {
          "output_type": "stream",
          "name": "stdout",
          "text": [
            "\n",
            "State after performing moves:\n"
          ]
        },
        {
          "output_type": "display_data",
          "data": {
            "text/plain": [
              "<Figure size 640x480 with 1 Axes>"
            ],
            "image/png": "[encoded data removed]"
          },
          "metadata": {}
        }
      ],
      "source": [
        "import numpy as np\n",
        "import matplotlib.pyplot as plt\n",
        "import matplotlib.patches as patches\n",
        "\n",
        "class RubiksCube:\n",
        "    def __init__(self):\n",
        "        # Initialize a solved Rubik's Cube with colors\n",
        "        self.cube = np.array([\n",
        "            [['W']*3]*3,  # Top face\n",
        "            [['O']*3]*3,  # Left face\n",
        "            [['G']*3]*3,  # Front face\n",
        "            [['R']*3]*3,  # Right face\n",
        "            [['B']*3]*3,  # Back face\n",
        "            [['Y']*3]*3   # Bottom face\n",
        "        ])\n",
        "\n",
        "    def rotate_face(self, face, times=1):\n",
        "        # Rotate a face 90 degrees clockwise `times` times\n",
        "        self.cube[face] = np.rot90(self.cube[face], -times)\n",
        "\n",
        "    def get_state(self):\n",
        "        # Return the current state of the cube\n",
        "        return self.cube\n",
        "\n",
        "    def move_U(self):\n",
        "        self.rotate_face(0)\n",
        "        self.cube[[2, 3, 4, 1], 0, :] = self.cube[[1, 2, 3, 4], 0, :]\n",
        "\n",
        "    def move_U_prime(self):\n",
        "        self.rotate_face(0, -1)\n",
        "        self.cube[[1, 2, 3, 4], 0, :] = self.cube[[2, 3, 4, 1], 0, :]\n",
        "\n",
        "    def move_U2(self):\n",
        "        self.rotate_face(0, 2)\n",
        "        self.cube[[2, 3, 4, 1], 0, :] = self.cube[[4, 1, 2, 3], 0, :]\n",
        "\n",
        "    def move_D(self):\n",
        "        self.rotate_face(5)\n",
        "        self.cube[[2, 1, 4, 3], 2, :] = self.cube[[1, 4, 3, 2], 2, :]\n",
        "\n",
        "    def move_D_prime(self):\n",
        "        self.rotate_face(5, -1)\n",
        "        self.cube[[1, 2, 3, 4], 2, :] = self.cube[[2, 3, 4, 1], 2, :]\n",
        "\n",
        "    def move_D2(self):\n",
        "        self.rotate_face(5, 2)\n",
        "        self.cube[[2, 1, 4, 3], 2, :] = self.cube[[4, 3, 2, 1], 2, :]\n",
        "\n",
        "    def move_L(self):\n",
        "        self.rotate_face(1)\n",
        "        self.cube[[0, 2, 5, 4], :, 0] = self.cube[[4, 0, 2, 5], :, 0]\n",
        "\n",
        "    def move_L_prime(self):\n",
        "        self.rotate_face(1, -1)\n",
        "        self.cube[[0, 2, 5, 4], :, 0] = self.cube[[2, 5, 4, 0], :, 0]\n",
        "\n",
        "    def move_L2(self):\n",
        "        self.rotate_face(1, 2)\n",
        "        self.cube[[0, 2, 5, 4], :, 0] = self.cube[[5, 4, 0, 2], :, 0]\n",
        "\n",
        "    def move_R(self):\n",
        "        self.rotate_face(3)\n",
        "        self.cube[[0, 2, 5, 4], :, 2] = self.cube[[2, 5, 4, 0], :, 2]\n",
        "\n",
        "    def move_R_prime(self):\n",
        "        self.rotate_face(3, -1)\n",
        "        self.cube[[0, 2, 5, 4], :, 2] = self.cube[[4, 0, 2, 5], :, 2]\n",
        "\n",
        "    def move_R2(self):\n",
        "        self.rotate_face(3, 2)\n",
        "        self.cube[[0, 2, 5, 4], :, 2] = self.cube[[5, 4, 0, 2], :, 2]\n",
        "\n",
        "    def move_F(self):\n",
        "        self.rotate_face(2)\n",
        "        self.cube[[0, 1, 5, 3], 2, :] = self.cube[[3, 0, 1, 5], 0, ::-1]\n",
        "\n",
        "    def move_F_prime(self):\n",
        "        self.rotate_face(2, -1)\n",
        "        self.cube[[0, 1, 5, 3], 2, :] = self.cube[[1, 5, 3, 0], 0, ::-1]\n",
        "\n",
        "    def move_F2(self):\n",
        "        self.rotate_face(2, 2)\n",
        "        self.cube[[0, 1, 5, 3], 2, :] = self.cube[[5, 3, 0, 1], 0, ::-1]\n",
        "\n",
        "    def move_B(self):\n",
        "        self.rotate_face(4)\n",
        "        self.cube[[0, 1, 5, 3], 0, :] = self.cube[[1, 5, 3, 0], 2, ::-1]\n",
        "\n",
        "    def move_B_prime(self):\n",
        "        self.rotate_face(4, -1)\n",
        "        self.cube[[0, 1, 5, 3], 0, :] = self.cube[[3, 0, 1, 5], 2, ::-1]\n",
        "\n",
        "    def move_B2(self):\n",
        "        self.rotate_face(4, 2)\n",
        "        self.cube[[0, 1, 5, 3], 0, :] = self.cube[[5, 3, 0, 1], 2, ::-1]\n",
        "\n",
        "    def perform_moves(self, moves):\n",
        "        move_functions = {\n",
        "            \"U\": self.move_U,\n",
        "            \"U'\": self.move_U_prime,\n",
        "            \"U2\": self.move_U2,\n",
        "            \"D\": self.move_D,\n",
        "            \"D'\": self.move_D_prime,\n",
        "            \"D2\": self.move_D2,\n",
        "            \"L\": self.move_L,\n",
        "            \"L'\": self.move_L_prime,\n",
        "            \"L2\": self.move_L2,\n",
        "            \"R\": self.move_R,\n",
        "            \"R'\": self.move_R_prime,\n",
        "            \"R2\": self.move_R2,\n",
        "            \"F\": self.move_F,\n",
        "            \"F'\": self.move_F_prime,\n",
        "            \"F2\": self.move_F2,\n",
        "            \"B\": self.move_B,\n",
        "            \"B'\": self.move_B_prime,\n",
        "            \"B2\": self.move_B2,\n",
        "        }\n",
        "        for move in moves:\n",
        "            if move in move_functions:\n",
        "                move_functions[move]()\n",
        "            else:\n",
        "                print(f\"Invalid move: {move}\")\n",
        "\n",
        "    def plot_cube(self):\n",
        "        color_map = {\n",
        "            'W': 'white',\n",
        "            'O': 'orange',\n",
        "            'G': 'green',\n",
        "            'R': 'red',\n",
        "            'B': 'blue',\n",
        "            'Y': 'yellow'\n",
        "        }\n",
        "\n",
        "        fig, ax = plt.subplots()\n",
        "\n",
        "        face_positions = {\n",
        "            'top': (3, 6),\n",
        "            'left': (0, 3),\n",
        "            'front': (3, 3),\n",
        "            'right': (6, 3),\n",
        "            'back': (9, 3),\n",
        "            'bottom': (3, 0)\n",
        "        }\n",
        "\n",
        "        for face_name, start_pos in face_positions.items():\n",
        "            face_idx = list(face_positions.keys()).index(face_name)\n",
        "            face = self.cube[face_idx]\n",
        "            x_start, y_start = start_pos\n",
        "\n",
        "            for i in range(3):\n",
        "                for j in range(3):\n",
        "                    rect = patches.Rectangle((x_start + j, y_start - i), 1, 1, linewidth=1, edgecolor='black', facecolor=color_map[face[i][j]])\n",
        "                    ax.add_patch(rect)\n",
        "\n",
        "        ax.set_xlim(0, 12)\n",
        "        ax.set_ylim(-6, 9)\n",
        "        ax.set_aspect('equal')\n",
        "        plt.axis('off')\n",
        "        plt.show()\n",
        "\n",
        "# Example usage\n",
        "cube = RubiksCube()\n",
        "print(\"Initial state:\")\n",
        "cube.plot_cube()\n",
        "\n",
        "# Perform a series of moves\n",
        "moves = [\"U\", \"U'\", \"U2\", \"D\", \"D'\", \"D2\", \"L\", \"L'\", \"L2\", \"R\", \"R'\", \"R2\", \"F\", \"F'\", \"F2\", \"B\", \"B'\", \"B2\"]\n",
        "cube.perform_moves(moves)\n",
        "print(\"\\nState after performing moves:\")\n",
        "cube.plot_cube()\n"
      ]
    },
    {
      "cell_type": "code",
      "source": [
        "moves = [\"R\", \"U'\", \"R'\", \"U\"]\n",
        "Left = [\"U'\"]\n",
        "L = lambda : cube.perform_moves([\"U'\"])\n",
        "R = lambda : cube.perform_moves([\"U\"])\n",
        "U = lambda : cube.perform_moves([\"R\"])\n",
        "D = lambda : cube.perform_moves([\"R'\"])\n",
        "\n",
        "M1 = lambda : cube.perform_moves([\"R\", \"U'\", \"R'\", \"U\"])\n",
        "cube = RubiksCube()\n",
        "print(\"Initial state:\")\n",
        "cube.plot_cube()\n",
        "\n",
        "# Perform a series of moves\n",
        "M1()\n",
        "#U();L();D();R();\n",
        "\n",
        "print(\"\\nState after performing moves:\")\n",
        "cube.plot_cube()\n",
        "\n",
        "# Perform a series of moves\n",
        "L();U();R();D();\n",
        "\n",
        "print(\"\\nState after performing moves:\")\n",
        "cube.plot_cube()\n"
      ],
      "metadata": {
        "colab": {
          "base_uri": "https://localhost:8080/",
          "height": 1000
        },
        "id": "qPROmTwFyvzH",
        "outputId": "acc8bdeb-5db1-400d-f118-b04ab968d042"
      },
      "execution_count": 3,
      "outputs": [
        {
          "output_type": "stream",
          "name": "stdout",
          "text": [
            "Initial state:\n"
          ]
        },
        {
          "output_type": "display_data",
          "data": {
            "text/plain": [
              "<Figure size 640x480 with 1 Axes>"
            ],
            "image/png": "[encoded data removed]"
          },
          "metadata": {}
        },
        {
          "output_type": "stream",
          "name": "stdout",
          "text": [
            "\n",
            "State after performing moves:\n"
          ]
        },
        {
          "output_type": "display_data",
          "data": {
            "text/plain": [
              "<Figure size 640x480 with 1 Axes>"
            ],
            "image/png": "[encoded data removed]"
          },
          "metadata": {}
        },
        {
          "output_type": "stream",
          "name": "stdout",
          "text": [
            "\n",
            "State after performing moves:\n"
          ]
        },
        {
          "output_type": "display_data",
          "data": {
            "text/plain": [
              "<Figure size 640x480 with 1 Axes>"
            ],
            "image/png": "[encoded data removed]"
          },
          "metadata": {}
        }
      ]
    },
    {
      "cell_type": "markdown",
      "source": [
        "### Context\n",
        "\n",
        "In the Rubik's Cube representation, `self.cube` is a 3-dimensional NumPy array where each face of the cube is a 3x3 2D array. The array indices represent different faces of the cube:\n",
        "\n",
        "- `0`: Top face\n",
        "- `1`: Left face\n",
        "- `2`: Front face\n",
        "- `3`: Right face\n",
        "- `4`: Back face\n",
        "- `5`: Bottom face\n",
        "\n",
        "### Explanation of the Statement\n",
        "\n",
        "#### `self.cube`\n",
        "\n",
        "This is the 3-dimensional NumPy array representing the state of the Rubik's Cube.\n",
        "\n",
        "#### `self.cube[[0, 2, 5, 4], :, 0]`\n",
        "\n",
        "This slice operation selects the elements from specific faces of the cube:\n",
        "\n",
        "- `[[0, 2, 5, 4]]`: This selects the top, front, bottom, and back faces of the cube.\n",
        "- `[:, :]`: This selects all rows and columns of the selected faces.\n",
        "- `[:, 0]`: This selects the first column of each selected face.\n",
        "\n",
        "So, `self.cube[[0, 2, 5, 4], :, 0]` refers to the first column of the top, front, bottom, and back faces.\n",
        "\n",
        "#### `self.cube[[4, 0, 2, 5], :, 0]`\n",
        "\n",
        "This slice operation selects and reorders the first column of different faces:\n",
        "\n",
        "- `[[4, 0, 2, 5]]`: This selects the back, top, front, and bottom faces.\n",
        "- `[:, :]`: This selects all rows and columns of the selected faces.\n",
        "- `[:, 0]`: This selects the first column of each selected face.\n",
        "\n",
        "So, `self.cube[[4, 0, 2, 5], :, 0]` refers to the first column of the back, top, front, and bottom faces in that order.\n",
        "\n",
        "### Assignment\n",
        "\n",
        "`self.cube[[0, 2, 5, 4], :, 0] = self.cube[[4, 0, 2, 5], :, 0]`\n",
        "\n",
        "This assignment updates the first column of the top, front, bottom, and back faces with the values from the first column of the back, top, front, and bottom faces respectively.\n",
        "\n",
        "### Purpose in Cube Rotation\n",
        "\n",
        "When rotating the left face (`L`) of a Rubik's Cube:\n",
        "\n",
        "- The first column of the top face moves to the first column of the back face.\n",
        "- The first column of the back face moves to the first column of the bottom face.\n",
        "- The first column of the bottom face moves to the first column of the front face.\n",
        "- The first column of the front face moves to the first column of the top face.\n",
        "\n",
        "This specific line of code achieves that by reassigning the first columns of the affected faces in the correct order.\n",
        "\n",
        "### Visualization\n",
        "\n",
        "```\n",
        "Before rotation (first column):\n",
        "Top:    T0\n",
        "Front:  F0\n",
        "Bottom: B0\n",
        "Back:   Ba0\n",
        "\n",
        "After rotation (first column):\n",
        "Top:    Ba0\n",
        "Front:  T0\n",
        "Bottom: F0\n",
        "Back:   B0\n",
        "```\n",
        "\n",
        "### Summary\n",
        "\n",
        "The statement `self.cube[[0, 2, 5, 4], :, 0] = self.cube[[4, 0, 2, 5], :, 0]` efficiently updates the first column of the specified faces during the rotation of the left face of the Rubik's Cube. This is part of the process to correctly simulate the movement of pieces when performing a rotation on the cube."
      ],
      "metadata": {
        "id": "cyBeAX-p7cq9"
      }
    },
    {
      "cell_type": "markdown",
      "source": [
        "\n",
        "### Explanation of `self.cube[[0, 2, 5, 4], :, 0] = self.cube[[4, 0, 2, 5], :, 0]`\n",
        "\n",
        "In the context of manipulating a Rubik's Cube, `self.cube` is a 3-dimensional NumPy array where each face of the cube is a 3x3 2D array. The array indices represent different faces of the cube:\n",
        "\n",
        "- `0`: Top face\n",
        "- `1`: Left face\n",
        "- `2`: Front face\n",
        "- `3`: Right face\n",
        "- `4`: Back face\n",
        "- `5`: Bottom face\n",
        "\n",
        "#### Breakdown of the Statement\n",
        "\n",
        "##### `self.cube`\n",
        "\n",
        "This is the 3-dimensional NumPy array representing the state of the Rubik's Cube.\n",
        "\n",
        "##### `self.cube[[0, 2, 5, 4], :, 0]`\n",
        "\n",
        "This slice operation selects the elements from specific faces of the cube:\n",
        "\n",
        "- `[[0, 2, 5, 4]]`: Selects the top, front, bottom, and back faces.\n",
        "- `[:, :]`: Selects all rows and columns of the selected faces.\n",
        "- `[:, 0]`: Selects the first column of each selected face.\n",
        "\n",
        "So, `self.cube[[0, 2, 5, 4], :, 0]` refers to the first column of the top, front, bottom, and back faces.\n",
        "\n",
        "##### `self.cube[[4, 0, 2, 5], :, 0]`\n",
        "\n",
        "This slice operation selects and reorders the first column of different faces:\n",
        "\n",
        "- `[[4, 0, 2, 5]]`: Selects the back, top, front, and bottom faces.\n",
        "- `[:, :]`: Selects all rows and columns of the selected faces.\n",
        "- `[:, 0]`: Selects the first column of each selected face.\n",
        "\n",
        "So, `self.cube[[4, 0, 2, 5], :, 0]` refers to the first column of the back, top, front, and bottom faces in that order.\n",
        "\n",
        "##### Assignment\n",
        "\n",
        "```python\n",
        "self.cube[[0, 2, 5, 4], :, 0] = self.cube[[4, 0, 2, 5], :, 0]\n",
        "```\n",
        "\n",
        "This assignment updates the first column of the top, front, bottom, and back faces with the values from the first column of the back, top, front, and bottom faces respectively.\n",
        "\n",
        "### Purpose in Cube Rotation\n",
        "\n",
        "When rotating the left face (`L`) of a Rubik's Cube:\n",
        "\n",
        "- The first column of the top face moves to the first column of the back face.\n",
        "- The first column of the back face moves to the first column of the bottom face.\n",
        "- The first column of the bottom face moves to the first column of the front face.\n",
        "- The first column of the front face moves to the first column of the top face.\n",
        "\n",
        "This specific line of code achieves that by reassigning the first columns of the affected faces in the correct order.\n",
        "\n",
        "### Visualization\n",
        "\n",
        "```\n",
        "Before rotation (first column):\n",
        "Top:    T0\n",
        "Front:  F0\n",
        "Bottom: B0\n",
        "Back:   Ba0\n",
        "\n",
        "After rotation (first column):\n",
        "Top:    Ba0\n",
        "Front:  T0\n",
        "Bottom: F0\n",
        "Back:   B0\n",
        "```\n",
        "\n",
        "### Summary\n",
        "\n",
        "The statement `self.cube[[0, 2, 5, 4], :, 0] = self.cube[[4, 0, 2, 5], :, 0]` efficiently updates the first column of the specified faces during the rotation of the left face of the Rubik's Cube. This is part of the process to correctly simulate the movement of pieces when performing a rotation on the cube.\n",
        "\n"
      ],
      "metadata": {
        "id": "tyf9mjWH7vBl"
      }
    },
    {
      "cell_type": "markdown",
      "source": [
        "# Revision"
      ],
      "metadata": {
        "id": "CLaXh_RzN15s"
      }
    },
    {
      "cell_type": "code",
      "source": [
        "import numpy as np\n",
        "import matplotlib.pyplot as plt\n",
        "import matplotlib.patches as patches\n",
        "\n",
        "class RubiksCube:\n",
        "    def __init__(self):\n",
        "        # Initialize a solved Rubik's Cube with colors\n",
        "        self.cube = np.array([\n",
        "            [['W']*3]*3,  # Top face\n",
        "            [['O']*3]*3,  # Left face\n",
        "            [['G']*3]*3,  # Front face\n",
        "            [['R']*3]*3,  # Right face\n",
        "            [['B']*3]*3,  # Back face\n",
        "            [['Y']*3]*3   # Bottom face\n",
        "        ])\n",
        "\n",
        "    def rotate_face(self, face, times=1):\n",
        "        # Rotate a face 90 degrees clockwise `times` times\n",
        "        self.cube[face] = np.rot90(self.cube[face], -times)\n",
        "\n",
        "    def get_state(self):\n",
        "        # Return the current state of the cube\n",
        "        return self.cube\n",
        "\n",
        "    def move_U(self):\n",
        "        self.rotate_face(0)\n",
        "        self.cube[[2, 3, 4, 1], 0, :] = self.cube[[1, 2, 3, 4], 0, :]\n",
        "\n",
        "    def move_U_prime(self):\n",
        "        self.rotate_face(0, -1)\n",
        "        self.cube[[1, 2, 3, 4], 0, :] = self.cube[[2, 3, 4, 1], 0, :]\n",
        "\n",
        "    def move_U2(self):\n",
        "        self.rotate_face(0, 2)\n",
        "        self.cube[[2, 3, 4, 1], 0, :] = self.cube[[4, 1, 2, 3], 0, :]\n",
        "\n",
        "    def move_D(self):\n",
        "        self.rotate_face(5)\n",
        "        self.cube[[2, 1, 4, 3], 2, :] = self.cube[[1, 4, 3, 2], 2, :]\n",
        "\n",
        "    def move_D_prime(self):\n",
        "        self.rotate_face(5, -1)\n",
        "        self.cube[[1, 2, 3, 4], 2, :] = self.cube[[2, 3, 4, 1], 2, :]\n",
        "\n",
        "    def move_D2(self):\n",
        "        self.rotate_face(5, 2)\n",
        "        self.cube[[2, 1, 4, 3], 2, :] = self.cube[[4, 3, 2, 1], 2, :]\n",
        "\n",
        "    def move_L(self):\n",
        "        self.rotate_face(1)\n",
        "        self.cube[[0, 2, 5, 4], :, 0] = self.cube[[4, 0, 2, 5], :, 0]\n",
        "\n",
        "    def move_L_prime(self):\n",
        "        self.rotate_face(1, -1)\n",
        "        self.cube[[0, 2, 5, 4], :, 0] = self.cube[[2, 5, 4, 0], :, 0]\n",
        "\n",
        "    def move_L2(self):\n",
        "        self.rotate_face(1, 2)\n",
        "        self.cube[[0, 2, 5, 4], :, 0] = self.cube[[5, 4, 0, 2], :, 0]\n",
        "\n",
        "    def move_R(self):\n",
        "        self.rotate_face(3)\n",
        "        self.cube[[0, 2, 5, 4], :, 2] = self.cube[[2, 5, 4, 0], :, 2]\n",
        "\n",
        "    def move_R_prime(self):\n",
        "        self.rotate_face(3, -1)\n",
        "        self.cube[[0, 2, 5, 4], :, 2] = self.cube[[4, 0, 2, 5], :, 2]\n",
        "\n",
        "    def move_R2(self):\n",
        "        self.rotate_face(3, 2)\n",
        "        self.cube[[0, 2, 5, 4], :, 2] = self.cube[[5, 4, 0, 2], :, 2]\n",
        "\n",
        "    def move_F(self):\n",
        "        self.rotate_face(2)\n",
        "        self.cube[[0, 1, 5, 3], 2, :] = self.cube[[3, 0, 1, 5], 0, ::-1]\n",
        "\n",
        "    def move_F_prime(self):\n",
        "        self.rotate_face(2, -1)\n",
        "        self.cube[[0, 1, 5, 3], 2, :] = self.cube[[1, 5, 3, 0], 0, ::-1]\n",
        "\n",
        "    def move_F2(self):\n",
        "        self.rotate_face(2, 2)\n",
        "        self.cube[[0, 1, 5, 3], 2, :] = self.cube[[5, 3, 0, 1], 0, ::-1]\n",
        "\n",
        "    def move_B(self):\n",
        "        self.rotate_face(4)\n",
        "        self.cube[[0, 1, 5, 3], 0, :] = self.cube[[1, 5, 3, 0], 2, ::-1]\n",
        "\n",
        "    def move_B_prime(self):\n",
        "        self.rotate_face(4, -1)\n",
        "        self.cube[[0, 1, 5, 3], 0, :] = self.cube[[3, 0, 1, 5], 2, ::-1]\n",
        "\n",
        "    def move_B2(self):\n",
        "        self.rotate_face(4, 2)\n",
        "        self.cube[[0, 1, 5, 3], 0, :] = self.cube[[5, 3, 0, 1], 2, ::-1]\n",
        "\n",
        "    def perform_moves(self, moves):\n",
        "        move_functions = {\n",
        "            \"U\": self.move_U,\n",
        "            \"U'\": self.move_U_prime,\n",
        "            \"U2\": self.move_U2,\n",
        "            \"D\": self.move_D,\n",
        "            \"D'\": self.move_D_prime,\n",
        "            \"D2\": self.move_D2,\n",
        "            \"L\": self.move_L,\n",
        "            \"L'\": self.move_L_prime,\n",
        "            \"L2\": self.move_L2,\n",
        "            \"R\": self.move_R,\n",
        "            \"R'\": self.move_R_prime,\n",
        "            \"R2\": self.move_R2,\n",
        "            \"F\": self.move_F,\n",
        "            \"F'\": self.move_F_prime,\n",
        "            \"F2\": self.move_F2,\n",
        "            \"B\": self.move_B,\n",
        "            \"B'\": self.move_B_prime,\n",
        "            \"B2\": self.move_B2,\n",
        "        }\n",
        "        for move in moves:\n",
        "            if move in move_functions:\n",
        "                move_functions[move]()\n",
        "            else:\n",
        "                print(f\"Invalid move: {move}\")\n",
        "\n",
        "    def plot_cube(self):\n",
        "        color_map = {\n",
        "            'W': 'white',\n",
        "            'O': 'orange',\n",
        "            'G': 'green',\n",
        "            'R': 'red',\n",
        "            'B': 'blue',\n",
        "            'Y': 'yellow'\n",
        "        }\n",
        "\n",
        "        fig, ax = plt.subplots()\n",
        "\n",
        "        face_positions = {\n",
        "            'top': (3, 6),\n",
        "            'left': (0, 3),\n",
        "            'front': (3, 3),\n",
        "            'right': (6, 3),\n",
        "            'back': (9, 3),\n",
        "            'bottom': (3, 0)\n",
        "        }\n",
        "\n",
        "        for face_name, start_pos in face_positions.items():\n",
        "            face_idx = list(face_positions.keys()).index(face_name)\n",
        "            face = self.cube[face_idx]\n",
        "            x_start, y_start = start_pos\n",
        "            for i in range(3):\n",
        "                for j in range(3):\n",
        "                    rect = patches.Rectangle((x_start + j, y_start - i), 1, 1, linewidth=2, edgecolor='black', facecolor=color_map[face[i][j]])\n",
        "                    ax.add_patch(rect)\n",
        "\n",
        "        ax.set_xlim(0, 12)\n",
        "        ax.set_ylim(-6, 9)\n",
        "        ax.set_aspect('equal')\n",
        "        plt.axis('off')\n",
        "        plt.show()\n",
        "\n",
        "# Example usage\n",
        "cube = RubiksCube()\n",
        "print(\"Initial state:\")\n",
        "cube.plot_cube()\n",
        "\n",
        "# Perform a series of moves\n",
        "moves = [\"U\", \"U'\", \"U2\", \"D\", \"D'\", \"D2\", \"L\", \"L'\", \"L2\", \"R\", \"R'\", \"R2\", \"F\", \"F'\", \"F2\", \"B\", \"B'\", \"B2\"]\n",
        "cube.perform_moves(moves)\n",
        "print(\"\\nState after performing moves:\")\n",
        "cube.plot_cube()\n"
      ],
      "metadata": {
        "colab": {
          "base_uri": "https://localhost:8080/",
          "height": 847
        },
        "id": "Qk52CvGnN4Ic",
        "outputId": "1434f2fb-00fd-42c2-8a5b-630dc112968f"
      },
      "execution_count": 4,
      "outputs": [
        {
          "output_type": "stream",
          "name": "stdout",
          "text": [
            "Initial state:\n"
          ]
        },
        {
          "output_type": "display_data",
          "data": {
            "text/plain": [
              "<Figure size 640x480 with 1 Axes>"
            ],
            "image/png": "[encoded data removed]"
          },
          "metadata": {}
        },
        {
          "output_type": "stream",
          "name": "stdout",
          "text": [
            "\n",
            "State after performing moves:\n"
          ]
        },
        {
          "output_type": "display_data",
          "data": {
            "text/plain": [
              "<Figure size 640x480 with 1 Axes>"
            ],
            "image/png": "[encoded data removed]"
          },
          "metadata": {}
        }
      ]
    },
    {
      "cell_type": "code",
      "source": [
        "moves = [\"R\", \"U'\", \"R'\", \"U\"]\n",
        "Left = [\"U'\"]\n",
        "L = lambda : cube.perform_moves([\"U'\"])\n",
        "R = lambda : cube.perform_moves([\"U\"])\n",
        "U = lambda : cube.perform_moves([\"R\"])\n",
        "D = lambda : cube.perform_moves([\"R'\"])\n",
        "\n",
        "M1 = lambda : cube.perform_moves([\"R\", \"U'\", \"R'\", \"U\"])\n",
        "M2 = lambda : cube.perform_moves([\"U'\", \"R\", \"U\", \"R'\"])\n",
        "cube = RubiksCube()\n",
        "print(\"Initial state:\")\n",
        "cube.plot_cube()\n",
        "\n",
        "# Perform a series of moves\n",
        "M1()\n",
        "#U();L();D();R();\n",
        "\n",
        "print(\"\\nState after performing moves:\")\n",
        "cube.plot_cube()\n",
        "\n",
        "# Perform a series of moves\n",
        "L();U();R();D();\n",
        "\n",
        "print(\"\\nState after performing moves:\")\n",
        "cube.plot_cube()\n"
      ],
      "metadata": {
        "colab": {
          "base_uri": "https://localhost:8080/",
          "height": 1000
        },
        "id": "5rFPzhkMPzMW",
        "outputId": "ef154c1a-f010-4c4d-8e21-1269b22f4860"
      },
      "execution_count": 5,
      "outputs": [
        {
          "output_type": "stream",
          "name": "stdout",
          "text": [
            "Initial state:\n"
          ]
        },
        {
          "output_type": "display_data",
          "data": {
            "text/plain": [
              "<Figure size 640x480 with 1 Axes>"
            ],
            "image/png": "[encoded data removed]"
          },
          "metadata": {}
        },
        {
          "output_type": "stream",
          "name": "stdout",
          "text": [
            "\n",
            "State after performing moves:\n"
          ]
        },
        {
          "output_type": "display_data",
          "data": {
            "text/plain": [
              "<Figure size 640x480 with 1 Axes>"
            ],
            "image/png": "[encoded data removed]"
          },
          "metadata": {}
        },
        {
          "output_type": "stream",
          "name": "stdout",
          "text": [
            "\n",
            "State after performing moves:\n"
          ]
        },
        {
          "output_type": "display_data",
          "data": {
            "text/plain": [
              "<Figure size 640x480 with 1 Axes>"
            ],
            "image/png": "[encoded data removed]"
          },
          "metadata": {}
        }
      ]
    },
    {
      "cell_type": "code",
      "source": [
        "M1 = [\"R\", \"U'\", \"R'\", \"U\"]\n",
        "M2 = [\"U'\", \"R\", \"U\", \"R'\"]\n",
        "ApplyMacro = lambda mSeq: [cube.perform_moves(m) for m in mSeq]\n",
        "\n",
        "cube = RubiksCube()\n",
        "print(\"Initial state:\")\n",
        "cube.plot_cube()\n",
        "Final_4_2 = [['D2'], [\"U'\", \"R\", \"U\", \"R'\"], [\"U'\", \"R\", \"U\", \"R'\"], [\"D2\"], [\"U'\", \"R\", \"U\", \"R'\"], [\"U'\", \"R\", \"U\", \"R'\"], [\"U'\", \"R\", \"U\", \"R'\"], [\"U'\", \"R\", \"U\", \"R'\"]]\n",
        "Part1 = [[\"D2\"]]\n",
        "Part2 = [[\"U'\", \"R\", \"U\", \"R'\"], [\"U'\", \"R\", \"U\", \"R'\"]]\n",
        "ApplyMacro(Final_4_2)\n",
        "cube.plot_cube()\n"
      ],
      "metadata": {
        "colab": {
          "base_uri": "https://localhost:8080/",
          "height": 812
        },
        "id": "AGFi10EsuH40",
        "outputId": "8304e49a-a9ba-470d-a07e-292ba401017d"
      },
      "execution_count": 19,
      "outputs": [
        {
          "output_type": "stream",
          "name": "stdout",
          "text": [
            "Initial state:\n"
          ]
        },
        {
          "output_type": "display_data",
          "data": {
            "text/plain": [
              "<Figure size 640x480 with 1 Axes>"
            ],
            "image/png": "[encoded data removed]"
          },
          "metadata": {}
        },
        {
          "output_type": "display_data",
          "data": {
            "text/plain": [
              "<Figure size 640x480 with 1 Axes>"
            ],
            "image/png": "[encoded data removed]"
          },
          "metadata": {}
        }
      ]
    },
    {
      "cell_type": "code",
      "source": [
        "cube = RubiksCube()\n",
        "print(\"Initial state:\")\n",
        "cube.plot_cube()\n",
        "cube.perform_moves(M2)\n",
        "cube.plot_cube()\n",
        "cube.perform_moves(M1)\n",
        "cube.plot_cube()"
      ],
      "metadata": {
        "colab": {
          "base_uri": "https://localhost:8080/",
          "height": 1000
        },
        "id": "rG8ELAI9zZo8",
        "outputId": "f45ca9e2-cae3-4b53-cf7b-d2ef9d3eee60"
      },
      "execution_count": 22,
      "outputs": [
        {
          "output_type": "stream",
          "name": "stdout",
          "text": [
            "Initial state:\n"
          ]
        },
        {
          "output_type": "display_data",
          "data": {
            "text/plain": [
              "<Figure size 640x480 with 1 Axes>"
            ],
            "image/png": "[encoded data removed]"
          },
          "metadata": {}
        },
        {
          "output_type": "display_data",
          "data": {
            "text/plain": [
              "<Figure size 640x480 with 1 Axes>"
            ],
            "image/png": "[encoded data removed]"
          },
          "metadata": {}
        },
        {
          "output_type": "display_data",
          "data": {
            "text/plain": [
              "<Figure size 640x480 with 1 Axes>"
            ],
            "image/png": "[encoded data removed]"
          },
          "metadata": {}
        }
      ]
    },
    {
      "cell_type": "code",
      "source": [
        "def M(m, cube):\n",
        "  cube.perform_moves(m)\n",
        "  cube.plot_cube()\n",
        "\n",
        "c = RubiksCube()\n",
        "M([\"R\"], c)\n",
        "M([\"U'\"], c)\n",
        "M([\"R'\"], c)\n",
        "M([\"U\"], c)"
      ],
      "metadata": {
        "colab": {
          "base_uri": "https://localhost:8080/",
          "height": 1000
        },
        "id": "BO9hw5-d03oz",
        "outputId": "7eb519c2-e7ed-4150-e212-62925a6ee0d2"
      },
      "execution_count": 30,
      "outputs": [
        {
          "output_type": "display_data",
          "data": {
            "text/plain": [
              "<Figure size 640x480 with 1 Axes>"
            ],
            "image/png": "[encoded data removed]"
          },
          "metadata": {}
        },
        {
          "output_type": "display_data",
          "data": {
            "text/plain": [
              "<Figure size 640x480 with 1 Axes>"
            ],
            "image/png": "[encoded data removed]"
          },
          "metadata": {}
        },
        {
          "output_type": "display_data",
          "data": {
            "text/plain": [
              "<Figure size 640x480 with 1 Axes>"
            ],
            "image/png": "[encoded data removed]"
          },
          "metadata": {}
        },
        {
          "output_type": "display_data",
          "data": {
            "text/plain": [
              "<Figure size 640x480 with 1 Axes>"
            ],
            "image/png": "[encoded data removed]"
          },
          "metadata": {}
        }
      ]
    }
  ]
}