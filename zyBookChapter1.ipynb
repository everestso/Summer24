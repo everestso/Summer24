{
  "nbformat": 4,
  "nbformat_minor": 0,
  "metadata": {
    "colab": {
      "provenance": [],
      "authorship_tag": "ABX9TyOP5w70ZvBvVadSxwEbD3AO",
      "include_colab_link": true
    },
    "kernelspec": {
      "name": "python3",
      "display_name": "Python 3"
    },
    "language_info": {
      "name": "python"
    }
  },
  "cells": [
    {
      "cell_type": "markdown",
      "metadata": {
        "id": "view-in-github",
        "colab_type": "text"
      },
      "source": [
        "<a href=\"https://colab.research.google.com/github/everestso/Summer24/blob/main/zyBookChapter1.ipynb\" target=\"_parent\"><img src=\"https://colab.research.google.com/assets/colab-badge.svg\" alt=\"Open In Colab\"/></a>"
      ]
    },
    {
      "cell_type": "code",
      "execution_count": 1,
      "metadata": {
        "id": "auSkxeFejiXw"
      },
      "outputs": [],
      "source": [
        "import pandas as pd\n",
        "import matplotlib.pyplot as plt\n",
        "import seaborn as sns"
      ]
    },
    {
      "cell_type": "code",
      "source": [
        "\n",
        "rides = pd.read_csv('cab_rides.csv')\n",
        "# Display the first few rows of the dataframe\n",
        "rides.head()\n",
        "print(f\"{rides.shape=}\")"
      ],
      "metadata": {
        "colab": {
          "base_uri": "https://localhost:8080/"
        },
        "id": "RS9BzEG_j6cj",
        "outputId": "7085840f-3e2a-43b9-d7da-b95f8f88c3c6"
      },
      "execution_count": 5,
      "outputs": [
        {
          "output_type": "stream",
          "name": "stdout",
          "text": [
            "rides.shape=(1000, 10)\n"
          ]
        }
      ]
    },
    {
      "cell_type": "code",
      "source": [
        "# df.iloc[] locations individual values in a\n",
        "# datafarme using row (instance) and column (feature) numbers\n",
        "print(f\"{rides.iloc[0:9, -2:]=}\\n\")\n",
        "\n",
        "print(f\"{rides.iloc[0:9, 0:2]=}\\n\")"
      ],
      "metadata": {
        "colab": {
          "base_uri": "https://localhost:8080/"
        },
        "id": "NeiOj5Pcq66T",
        "outputId": "73f4c07d-a1de-4db3-d39d-bda42b0a5dce"
      },
      "execution_count": 15,
      "outputs": [
        {
          "output_type": "stream",
          "name": "stdout",
          "text": [
            "rides.iloc[0:9, -2:]=     product_id          name\n",
            "0     lyft_line        Shared\n",
            "1  lyft_premier           Lux\n",
            "2          lyft          Lyft\n",
            "3   lyft_luxsuv  Lux Black XL\n",
            "4     lyft_plus       Lyft XL\n",
            "5      lyft_lux     Lux Black\n",
            "6     lyft_plus       Lyft XL\n",
            "7      lyft_lux     Lux Black\n",
            "8     lyft_line        Shared\n",
            "\n",
            "rides.iloc[0:9, 0:2]=   distance cab_type\n",
            "0      0.44     Lyft\n",
            "1      0.44     Lyft\n",
            "2      0.44     Lyft\n",
            "3      0.44     Lyft\n",
            "4      0.44     Lyft\n",
            "5      0.44     Lyft\n",
            "6      1.08     Lyft\n",
            "7      1.08     Lyft\n",
            "8      1.08     Lyft\n",
            "\n"
          ]
        }
      ]
    }
  ]
}